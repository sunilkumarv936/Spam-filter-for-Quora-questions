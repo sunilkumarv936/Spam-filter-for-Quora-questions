{
 "cells": [
  {
   "cell_type": "code",
   "execution_count": 1,
   "id": "49b37ef1",
   "metadata": {},
   "outputs": [],
   "source": [
    "import numpy as np\n",
    "import pandas as pd\n",
    "from sklearn.model_selection import train_test_split\n",
    "from nltk import word_tokenize"
   ]
  },
  {
   "cell_type": "code",
   "execution_count": 2,
   "id": "c7bc5bf2",
   "metadata": {},
   "outputs": [],
   "source": [
    "df=pd.read_csv(r'train.csv',sep=',', encoding='latin-1')"
   ]
  },
  {
   "cell_type": "code",
   "execution_count": 3,
   "id": "8406ace2",
   "metadata": {},
   "outputs": [
    {
     "data": {
      "text/html": [
       "<div>\n",
       "<style scoped>\n",
       "    .dataframe tbody tr th:only-of-type {\n",
       "        vertical-align: middle;\n",
       "    }\n",
       "\n",
       "    .dataframe tbody tr th {\n",
       "        vertical-align: top;\n",
       "    }\n",
       "\n",
       "    .dataframe thead th {\n",
       "        text-align: right;\n",
       "    }\n",
       "</style>\n",
       "<table border=\"1\" class=\"dataframe\">\n",
       "  <thead>\n",
       "    <tr style=\"text-align: right;\">\n",
       "      <th></th>\n",
       "      <th>qid</th>\n",
       "      <th>question_text</th>\n",
       "      <th>target</th>\n",
       "    </tr>\n",
       "  </thead>\n",
       "  <tbody>\n",
       "    <tr>\n",
       "      <th>0</th>\n",
       "      <td>00002165364db923c7e6</td>\n",
       "      <td>How did Quebec nationalists see their province...</td>\n",
       "      <td>0</td>\n",
       "    </tr>\n",
       "    <tr>\n",
       "      <th>1</th>\n",
       "      <td>000032939017120e6e44</td>\n",
       "      <td>Do you have an adopted dog, how would you enco...</td>\n",
       "      <td>0</td>\n",
       "    </tr>\n",
       "    <tr>\n",
       "      <th>2</th>\n",
       "      <td>0000412ca6e4628ce2cf</td>\n",
       "      <td>Why does velocity affect time? Does velocity a...</td>\n",
       "      <td>0</td>\n",
       "    </tr>\n",
       "    <tr>\n",
       "      <th>3</th>\n",
       "      <td>000042bf85aa498cd78e</td>\n",
       "      <td>How did Otto von Guericke used the Magdeburg h...</td>\n",
       "      <td>0</td>\n",
       "    </tr>\n",
       "    <tr>\n",
       "      <th>4</th>\n",
       "      <td>0000455dfa3e01eae3af</td>\n",
       "      <td>Can I convert montra helicon D to a mountain b...</td>\n",
       "      <td>0</td>\n",
       "    </tr>\n",
       "    <tr>\n",
       "      <th>...</th>\n",
       "      <td>...</td>\n",
       "      <td>...</td>\n",
       "      <td>...</td>\n",
       "    </tr>\n",
       "    <tr>\n",
       "      <th>1306117</th>\n",
       "      <td>ffffcc4e2331aaf1e41e</td>\n",
       "      <td>What other technical skills do you need as a c...</td>\n",
       "      <td>0</td>\n",
       "    </tr>\n",
       "    <tr>\n",
       "      <th>1306118</th>\n",
       "      <td>ffffd431801e5a2f4861</td>\n",
       "      <td>Does MS in ECE have good job prospects in USA ...</td>\n",
       "      <td>0</td>\n",
       "    </tr>\n",
       "    <tr>\n",
       "      <th>1306119</th>\n",
       "      <td>ffffd48fb36b63db010c</td>\n",
       "      <td>Is foam insulation toxic?</td>\n",
       "      <td>0</td>\n",
       "    </tr>\n",
       "    <tr>\n",
       "      <th>1306120</th>\n",
       "      <td>ffffec519fa37cf60c78</td>\n",
       "      <td>How can one start a research project based on ...</td>\n",
       "      <td>0</td>\n",
       "    </tr>\n",
       "    <tr>\n",
       "      <th>1306121</th>\n",
       "      <td>ffffed09fedb5088744a</td>\n",
       "      <td>Who wins in a battle between a Wolverine and a...</td>\n",
       "      <td>0</td>\n",
       "    </tr>\n",
       "  </tbody>\n",
       "</table>\n",
       "<p>1306122 rows × 3 columns</p>\n",
       "</div>"
      ],
      "text/plain": [
       "                          qid  \\\n",
       "0        00002165364db923c7e6   \n",
       "1        000032939017120e6e44   \n",
       "2        0000412ca6e4628ce2cf   \n",
       "3        000042bf85aa498cd78e   \n",
       "4        0000455dfa3e01eae3af   \n",
       "...                       ...   \n",
       "1306117  ffffcc4e2331aaf1e41e   \n",
       "1306118  ffffd431801e5a2f4861   \n",
       "1306119  ffffd48fb36b63db010c   \n",
       "1306120  ffffec519fa37cf60c78   \n",
       "1306121  ffffed09fedb5088744a   \n",
       "\n",
       "                                             question_text  target  \n",
       "0        How did Quebec nationalists see their province...       0  \n",
       "1        Do you have an adopted dog, how would you enco...       0  \n",
       "2        Why does velocity affect time? Does velocity a...       0  \n",
       "3        How did Otto von Guericke used the Magdeburg h...       0  \n",
       "4        Can I convert montra helicon D to a mountain b...       0  \n",
       "...                                                    ...     ...  \n",
       "1306117  What other technical skills do you need as a c...       0  \n",
       "1306118  Does MS in ECE have good job prospects in USA ...       0  \n",
       "1306119                          Is foam insulation toxic?       0  \n",
       "1306120  How can one start a research project based on ...       0  \n",
       "1306121  Who wins in a battle between a Wolverine and a...       0  \n",
       "\n",
       "[1306122 rows x 3 columns]"
      ]
     },
     "execution_count": 3,
     "metadata": {},
     "output_type": "execute_result"
    }
   ],
   "source": [
    "df"
   ]
  },
  {
   "cell_type": "code",
   "execution_count": 4,
   "id": "d276bdc3",
   "metadata": {},
   "outputs": [
    {
     "data": {
      "text/plain": [
       "qid              0\n",
       "question_text    0\n",
       "target           0\n",
       "dtype: int64"
      ]
     },
     "execution_count": 4,
     "metadata": {},
     "output_type": "execute_result"
    }
   ],
   "source": [
    "df.isnull().sum()"
   ]
  },
  {
   "cell_type": "code",
   "execution_count": 5,
   "id": "e1b506ae",
   "metadata": {},
   "outputs": [
    {
     "name": "stdout",
     "output_type": "stream",
     "text": [
      "question_text , What happened to the border wall that Trump promised?                                                                                                                                        1\n",
      "Why are liberals and Democrats so upset about the plight of the children of illegal aliens when at the same time thousands of unborn children of Americans are murdered through abortion?    1\n",
      "Did you present a portfolio or projects from school to acquire customers when you started freelancing?                                                                                       1\n",
      "Which platform can provide me direct funds rather than regular funds in mutual funds?                                                                                                        1\n",
      "How do you tear down a single action pistol?                                                                                                                                                 1\n",
      "                                                                                                                                                                                            ..\n",
      "What are examples of evils that are justified by invoking the Holocaust?                                                                                                                     1\n",
      "Where could I buy some dildos online? Iâm 14 years old and Iâm a boy and bisexual.                                                                                                       1\n",
      "How viable was Kevin Arnoldâs defense system in Home Alone? What could he have done differently?                                                                                           1\n",
      "Is 68K good salary in Berlin for 10 years experienced developer?                                                                                                                             1\n",
      "(X-2018) (y-2017) =-1 where x and y are integers. What are x and y?                                                                                                                          1\n",
      "Name: question_text, Length: 1306122, dtype: int64\n",
      "target , 0    1225312\n",
      "1      80810\n",
      "Name: target, dtype: int64\n"
     ]
    }
   ],
   "source": [
    "for col in ['question_text','target']:\n",
    "  print(col,',',df[col].value_counts())"
   ]
  },
  {
   "cell_type": "code",
   "execution_count": 6,
   "id": "e6b3b88a",
   "metadata": {},
   "outputs": [],
   "source": [
    "df.drop(['qid'],1,inplace=True)"
   ]
  },
  {
   "cell_type": "code",
   "execution_count": 7,
   "id": "40aaa03b",
   "metadata": {},
   "outputs": [
    {
     "data": {
      "text/plain": [
       "question_text    object\n",
       "target            int64\n",
       "dtype: object"
      ]
     },
     "execution_count": 7,
     "metadata": {},
     "output_type": "execute_result"
    }
   ],
   "source": [
    "df.dtypes"
   ]
  },
  {
   "cell_type": "code",
   "execution_count": 8,
   "id": "96b8777e",
   "metadata": {},
   "outputs": [],
   "source": [
    "import warnings\n",
    "warnings.filterwarnings('ignore')\n",
    "import pandas as pd\n",
    "import numpy as np"
   ]
  },
  {
   "cell_type": "code",
   "execution_count": 9,
   "id": "d7fccc3c",
   "metadata": {},
   "outputs": [],
   "source": [
    "from keras.models import Sequential"
   ]
  },
  {
   "cell_type": "code",
   "execution_count": 10,
   "id": "684a10aa",
   "metadata": {},
   "outputs": [],
   "source": [
    "from keras.callbacks import ModelCheckpoint\n",
    "from keras.callbacks import EarlyStopping\n",
    "from keras import models\n",
    "from keras.models import load_model\n",
    "from keras.preprocessing.text import Tokenizer\n",
    "from keras.preprocessing import sequence"
   ]
  },
  {
   "cell_type": "code",
   "execution_count": 11,
   "id": "b6a0d6dc",
   "metadata": {},
   "outputs": [],
   "source": [
    "from keras import preprocessing"
   ]
  },
  {
   "cell_type": "code",
   "execution_count": 12,
   "id": "672cbf86",
   "metadata": {},
   "outputs": [],
   "source": [
    "from keras.layers import LSTM, Activation, Dense, Input, Embedding, Dropout\n",
    "from keras.models import Model"
   ]
  },
  {
   "cell_type": "code",
   "execution_count": 13,
   "id": "d1ae36e6",
   "metadata": {},
   "outputs": [],
   "source": [
    "from nltk import word_tokenize"
   ]
  },
  {
   "cell_type": "code",
   "execution_count": 14,
   "id": "c8fd7d9f",
   "metadata": {},
   "outputs": [],
   "source": [
    "from sklearn.metrics import roc_auc_score, accuracy_score\n",
    "from sklearn.model_selection import train_test_split\n",
    "from sklearn.utils import class_weight"
   ]
  },
  {
   "cell_type": "code",
   "execution_count": 15,
   "id": "d46348a4",
   "metadata": {},
   "outputs": [
    {
     "data": {
      "text/plain": [
       "['.ipynb_checkpoints',\n",
       " 'Copied.ipynb',\n",
       " 'Details.txt',\n",
       " 'glove.42B.300d.txt',\n",
       " 'glove.42B.300d.zip',\n",
       " 'Project3.ipynb',\n",
       " 'train.csv']"
      ]
     },
     "execution_count": 15,
     "metadata": {},
     "output_type": "execute_result"
    }
   ],
   "source": [
    "import os\n",
    "os.listdir()"
   ]
  },
  {
   "cell_type": "code",
   "execution_count": 16,
   "id": "8945c02d",
   "metadata": {},
   "outputs": [],
   "source": [
    "embeding_index={}\n",
    "\n",
    "f=open('glove.42B.300d.txt',encoding='utf-8')\n",
    "\n",
    "for line in f:\n",
    "    values=line.split()\n",
    "    word=values[0]\n",
    "    coefs=np.asarray(values[1:],dtype='float32')\n",
    "    embeding_index[word]=coefs\n",
    "f.close()"
   ]
  },
  {
   "cell_type": "code",
   "execution_count": 17,
   "id": "076c7bc5",
   "metadata": {},
   "outputs": [
    {
     "data": {
      "text/plain": [
       "300"
      ]
     },
     "execution_count": 17,
     "metadata": {},
     "output_type": "execute_result"
    }
   ],
   "source": [
    "len(embeding_index['provide'])"
   ]
  },
  {
   "cell_type": "code",
   "execution_count": 18,
   "id": "47693d44",
   "metadata": {},
   "outputs": [
    {
     "data": {
      "text/plain": [
       "array([ 2.1902e-01, -6.6693e-02,  1.0538e-01, -2.0213e-01,  3.4797e-01,\n",
       "       -8.4570e-03, -4.0350e+00,  3.4057e-01,  1.0484e-01,  2.1855e-01,\n",
       "       -4.0837e-01,  2.7482e-01,  1.1953e-01,  7.4335e-02, -1.7069e-01,\n",
       "       -4.0008e-01, -7.9120e-03, -3.9702e-01,  5.1159e-02, -2.3763e-02,\n",
       "       -4.6144e-01,  4.7578e-02, -1.8110e-01,  3.9715e-03,  1.5718e-01,\n",
       "       -1.8605e-01,  3.4680e-01,  1.7597e-01, -5.9390e-02, -3.0119e-01,\n",
       "       -2.8326e-01, -2.6415e-01, -1.9358e-02,  6.7555e-03,  3.3796e-01,\n",
       "       -3.5508e-01,  1.0336e-02, -5.0465e-01,  1.3932e-01, -2.7452e-01,\n",
       "       -1.6377e-01,  5.0877e-01, -1.4303e-01, -2.0842e-01,  2.0463e-01,\n",
       "        7.3660e-02, -1.8813e-01,  2.8356e-01, -2.7095e-01, -2.5136e-01,\n",
       "       -1.2715e-01,  2.1164e-01, -4.4701e-01,  9.5515e-02,  4.5539e-01,\n",
       "       -6.0036e-02,  1.4488e-02, -2.9433e-01, -5.5977e-01,  2.8814e-01,\n",
       "        9.5750e-03,  2.2739e-01, -8.2802e-02,  3.0510e-01,  3.8501e-02,\n",
       "        3.2902e-01, -1.1190e-02, -1.2909e-01,  3.6758e-01, -2.2935e-01,\n",
       "        2.6401e-01,  1.9909e-01, -7.8803e-04, -1.3039e-01, -3.9690e-01,\n",
       "       -4.3841e-01,  6.1215e-02, -4.7709e-02, -3.5575e-01,  1.8750e-01,\n",
       "        3.4555e-01,  2.8779e-01, -6.8454e-03, -1.7504e-01, -9.5136e-02,\n",
       "        9.4429e-02, -2.6755e-01, -4.8982e-02,  3.9339e-02, -4.0065e-01,\n",
       "        3.4743e-01, -6.9292e-02, -1.2419e-01,  1.2406e-01,  1.8153e-01,\n",
       "       -6.0588e-01, -3.2390e+00, -2.4592e-01,  1.4388e-01,  1.1758e-01,\n",
       "        2.2550e-01, -7.5323e-02,  4.9870e-01,  9.2026e-02,  3.3391e-01,\n",
       "        2.2523e-01,  1.8982e-01, -5.2188e-01,  4.3021e-02,  1.7399e-01,\n",
       "        2.9453e-01,  9.9008e-02,  1.9499e-01,  3.0952e-01, -1.2284e-01,\n",
       "       -5.9892e-01, -1.7967e-01,  2.7501e-01, -2.3160e-01,  6.8276e-03,\n",
       "        1.2663e-01,  4.8431e-02, -2.1738e-01, -4.9044e-01,  2.3646e-01,\n",
       "        1.8807e-02, -1.2284e-02,  1.0434e-02, -2.1529e-01,  2.3792e-01,\n",
       "       -1.1549e-02,  2.6257e-02, -1.0690e-01, -3.6991e-02,  9.9955e-02,\n",
       "        9.5308e-02, -2.6971e-01, -3.4217e-01, -2.4024e-01,  2.0361e-02,\n",
       "        6.1201e-02,  1.2426e-01, -2.4957e-02, -1.3589e-01, -1.4105e-01,\n",
       "        5.2884e-01, -1.3759e-01, -8.9412e-03,  2.8420e-01, -3.7268e-01,\n",
       "       -1.7337e-01, -1.1465e-01,  1.6288e-01,  1.3099e-01,  2.4448e-01,\n",
       "       -4.0541e-01,  1.3252e-01,  5.5587e-02, -1.9722e-01,  1.5726e-01,\n",
       "        3.2216e-02, -5.9881e-02,  1.8759e-01, -9.3401e-02, -3.4242e-01,\n",
       "        1.2859e-02, -2.1402e-01,  3.2372e-01, -6.7768e-02,  4.4112e-02,\n",
       "       -1.3134e-01,  3.2440e-02,  9.3797e-03, -7.7336e-02,  7.2063e-02,\n",
       "        1.8051e-01,  2.0104e-01, -1.3872e-01,  4.9355e-01,  5.1419e-02,\n",
       "        1.1572e-01,  1.0045e-01, -2.2098e-01,  4.9341e-02, -1.2770e-01,\n",
       "       -3.1593e-01,  1.1756e-01,  4.3036e-01,  3.1737e-01, -1.7073e-01,\n",
       "       -6.2007e-01, -4.7124e-01, -2.7669e-01, -6.8500e-02,  1.4970e-03,\n",
       "       -2.1415e-01,  5.3984e-02,  2.8980e-02,  1.2719e-01,  1.4912e-01,\n",
       "        6.9872e-01, -1.7354e-01, -2.3183e-02,  4.7216e-02,  1.1313e-02,\n",
       "        2.9384e-01,  4.0226e-03,  2.0113e-01, -9.1803e-02, -7.1975e-01,\n",
       "       -3.7483e-01, -1.0034e-01, -5.3549e-02, -3.8092e-01, -2.0682e-02,\n",
       "        1.6361e-01, -9.6418e-03, -2.8680e-01, -2.6205e-01, -2.8066e-01,\n",
       "       -3.9167e-02, -9.9088e-02,  1.9721e-01, -1.3143e-01, -1.6324e+00,\n",
       "        4.1150e-01,  2.0601e-01, -9.5291e-02, -3.5698e-01,  3.2495e-01,\n",
       "        1.8742e-01, -4.5179e-01, -2.7215e-01,  3.0808e-01, -5.1340e-02,\n",
       "        1.6085e-01, -1.7215e-01, -1.8851e-01,  1.5627e-01,  1.7504e-01,\n",
       "       -1.2757e-02, -2.4233e-01,  9.8941e-02, -2.7243e-01, -1.4141e-01,\n",
       "        2.8407e-01,  1.3008e-01, -2.4738e-01, -1.9367e-01,  1.7094e-02,\n",
       "        1.5011e-01, -2.9096e-03, -3.5337e-01, -5.7934e-01, -8.5604e-02,\n",
       "        1.5768e-03,  3.2639e-02, -2.8275e-01, -6.9443e-02, -1.9244e-03,\n",
       "        7.3945e-02, -2.5891e-01, -2.9539e-01,  1.3487e-01,  1.9859e-01,\n",
       "       -7.0200e-02, -1.5826e-01,  3.1991e-02, -2.3593e-01, -7.4441e-02,\n",
       "        9.3645e-02, -1.0686e-01,  2.5556e-02, -1.0261e-01,  9.2826e-02,\n",
       "       -1.0680e-02, -9.4050e-03, -1.6072e-01,  9.2735e-02,  1.2380e-01,\n",
       "       -7.2640e-01,  2.6842e-02, -3.5674e-01, -6.8022e-02,  4.0718e-01,\n",
       "        7.0850e-01, -8.8909e-02,  1.1231e-01,  1.1876e-01, -4.1923e-01,\n",
       "       -1.8366e-01, -2.0767e-01, -5.4951e-01,  2.7804e-02,  5.6227e-02,\n",
       "       -2.6159e-01,  2.5528e-02,  1.9091e-01,  3.5287e-03,  1.6023e-01],\n",
       "      dtype=float32)"
      ]
     },
     "execution_count": 18,
     "metadata": {},
     "output_type": "execute_result"
    }
   ],
   "source": [
    "embeding_index['provide']"
   ]
  },
  {
   "cell_type": "code",
   "execution_count": 19,
   "id": "4a53944e",
   "metadata": {},
   "outputs": [
    {
     "data": {
      "text/plain": [
       "1917494"
      ]
     },
     "execution_count": 19,
     "metadata": {},
     "output_type": "execute_result"
    }
   ],
   "source": [
    "len(embeding_index)"
   ]
  },
  {
   "cell_type": "code",
   "execution_count": 20,
   "id": "2b14820d",
   "metadata": {},
   "outputs": [],
   "source": [
    "X=df['question_text']\n",
    "Y=df['target']"
   ]
  },
  {
   "cell_type": "code",
   "execution_count": 21,
   "id": "3dcc41e1",
   "metadata": {},
   "outputs": [
    {
     "data": {
      "text/plain": [
       "((1044897,), (261225,), (1044897,), (261225,))"
      ]
     },
     "execution_count": 21,
     "metadata": {},
     "output_type": "execute_result"
    }
   ],
   "source": [
    "x_train,x_test,y_train,y_test=train_test_split(X,Y,test_size=0.2)\n",
    "x_train.shape, x_test.shape, y_train.shape, y_test.shape"
   ]
  },
  {
   "cell_type": "code",
   "execution_count": 22,
   "id": "22447db5",
   "metadata": {},
   "outputs": [
    {
     "name": "stdout",
     "output_type": "stream",
     "text": [
      "[0.53297638 8.08118329]\n"
     ]
    }
   ],
   "source": [
    "class_weight=class_weight.compute_class_weight('balanced',np.unique(y_train),y_train)\n",
    "print(class_weight)"
   ]
  },
  {
   "cell_type": "code",
   "execution_count": 23,
   "id": "d4baddd4",
   "metadata": {},
   "outputs": [
    {
     "data": {
      "text/plain": [
       "{0: 0.5329763824831905, 1: 8.081183294663573}"
      ]
     },
     "execution_count": 23,
     "metadata": {},
     "output_type": "execute_result"
    }
   ],
   "source": [
    "class_weight_dict = dict(enumerate(class_weight))\n",
    "class_weight_dict"
   ]
  },
  {
   "cell_type": "code",
   "execution_count": 24,
   "id": "c63089bd",
   "metadata": {},
   "outputs": [],
   "source": [
    "from nltk import word_tokenize"
   ]
  },
  {
   "cell_type": "code",
   "execution_count": 25,
   "id": "b9b6741c",
   "metadata": {},
   "outputs": [
    {
     "name": "stderr",
     "output_type": "stream",
     "text": [
      "[nltk_data] Downloading package punkt to\n",
      "[nltk_data]     C:\\Users\\sunilkumar\\AppData\\Roaming\\nltk_data...\n",
      "[nltk_data]   Package punkt is already up-to-date!\n",
      "[nltk_data] Downloading package averaged_perceptron_tagger to\n",
      "[nltk_data]     C:\\Users\\sunilkumar\\AppData\\Roaming\\nltk_data...\n",
      "[nltk_data]   Package averaged_perceptron_tagger is already up-to-\n",
      "[nltk_data]       date!\n"
     ]
    },
    {
     "data": {
      "text/plain": [
       "True"
      ]
     },
     "execution_count": 25,
     "metadata": {},
     "output_type": "execute_result"
    }
   ],
   "source": [
    "import nltk\n",
    "nltk.download('punkt')\n",
    "nltk.download('averaged_perceptron_tagger')"
   ]
  },
  {
   "cell_type": "code",
   "execution_count": 26,
   "id": "b46fa3b1",
   "metadata": {},
   "outputs": [
    {
     "name": "stdout",
     "output_type": "stream",
     "text": [
      "361\n"
     ]
    }
   ],
   "source": [
    "sent_lens=[len(word_tokenize(x)) for x in x_train]\n",
    "print(max(sent_lens))"
   ]
  },
  {
   "cell_type": "code",
   "execution_count": 27,
   "id": "b9ecc9d9",
   "metadata": {},
   "outputs": [
    {
     "data": {
      "text/plain": [
       "44.0"
      ]
     },
     "execution_count": 27,
     "metadata": {},
     "output_type": "execute_result"
    }
   ],
   "source": [
    "np.percentile(sent_lens,99)"
   ]
  },
  {
   "cell_type": "code",
   "execution_count": 28,
   "id": "b1065c3a",
   "metadata": {},
   "outputs": [],
   "source": [
    "max_len=44\n",
    "\n",
    "tk=Tokenizer(char_level=False,split=' ')\n",
    "\n",
    "tk.fit_on_texts(x_train)\n",
    "\n",
    "seq_train=tk.texts_to_sequences(x_train)\n",
    "seq_test=tk.texts_to_sequences(x_test)\n",
    "\n",
    "vocab_size=len(tk.word_index)\n",
    "\n",
    "#seq_train_matrix=sequence.pad_sequences(seq_train,maxlen=max_len)\n",
    "#seq_test_matrix=sequence.pad_sequences(seq_test,maxlen=max_len)"
   ]
  },
  {
   "cell_type": "code",
   "execution_count": 29,
   "id": "e84a0200",
   "metadata": {},
   "outputs": [],
   "source": [
    "seq_train_matrix=preprocessing.sequence.data_utils.pad_sequences(seq_train,maxlen=max_len)"
   ]
  },
  {
   "cell_type": "code",
   "execution_count": 30,
   "id": "cc668036",
   "metadata": {},
   "outputs": [],
   "source": [
    "seq_test_matrix=preprocessing.sequence.data_utils.pad_sequences(seq_test,maxlen=max_len)"
   ]
  },
  {
   "cell_type": "code",
   "execution_count": 31,
   "id": "b6b299e8",
   "metadata": {},
   "outputs": [
    {
     "data": {
      "text/plain": [
       "{'the': 1,\n",
       " 'what': 2,\n",
       " 'is': 3,\n",
       " 'a': 4,\n",
       " 'to': 5,\n",
       " 'in': 6,\n",
       " 'of': 7,\n",
       " 'i': 8,\n",
       " 'how': 9,\n",
       " 'and': 10,\n",
       " 'do': 11,\n",
       " 'are': 12,\n",
       " 'for': 13,\n",
       " 'you': 14,\n",
       " 'can': 15,\n",
       " 'why': 16,\n",
       " 'it': 17,\n",
       " 'my': 18,\n",
       " 'that': 19,\n",
       " 'if': 20,\n",
       " 'with': 21,\n",
       " 'on': 22,\n",
       " 'or': 23,\n",
       " 'have': 24,\n",
       " 'be': 25,\n",
       " 'does': 26,\n",
       " 'from': 27,\n",
       " 'your': 28,\n",
       " 'an': 29,\n",
       " 'which': 30,\n",
       " 'should': 31,\n",
       " 'when': 32,\n",
       " 'get': 33,\n",
       " 'best': 34,\n",
       " 'would': 35,\n",
       " 'as': 36,\n",
       " 'people': 37,\n",
       " 'some': 38,\n",
       " 'there': 39,\n",
       " 'who': 40,\n",
       " 'will': 41,\n",
       " 'like': 42,\n",
       " 'at': 43,\n",
       " 'not': 44,\n",
       " 'about': 45,\n",
       " 'by': 46,\n",
       " 'they': 47,\n",
       " 'did': 48,\n",
       " 'was': 49,\n",
       " 'any': 50,\n",
       " 'we': 51,\n",
       " 'so': 52,\n",
       " 'good': 53,\n",
       " 'me': 54,\n",
       " 'their': 55,\n",
       " 'one': 56,\n",
       " 'india': 57,\n",
       " 'has': 58,\n",
       " 'after': 59,\n",
       " 'most': 60,\n",
       " 'where': 61,\n",
       " 'make': 62,\n",
       " 'this': 63,\n",
       " 'but': 64,\n",
       " 'more': 65,\n",
       " 'all': 66,\n",
       " 'think': 67,\n",
       " 'many': 68,\n",
       " 'between': 69,\n",
       " 'time': 70,\n",
       " 'than': 71,\n",
       " 'much': 72,\n",
       " 'other': 73,\n",
       " 'life': 74,\n",
       " 'someone': 75,\n",
       " 'use': 76,\n",
       " 'he': 77,\n",
       " 'out': 78,\n",
       " 'am': 79,\n",
       " 'way': 80,\n",
       " 'know': 81,\n",
       " 'up': 82,\n",
       " 'being': 83,\n",
       " 'want': 84,\n",
       " 'work': 85,\n",
       " 'take': 86,\n",
       " 'them': 87,\n",
       " 'ever': 88,\n",
       " 'were': 89,\n",
       " 'his': 90,\n",
       " 'find': 91,\n",
       " 'us': 92,\n",
       " 'become': 93,\n",
       " 'without': 94,\n",
       " 'just': 95,\n",
       " 'world': 96,\n",
       " 'could': 97,\n",
       " 'person': 98,\n",
       " 'into': 99,\n",
       " 'better': 100,\n",
       " 'feel': 101,\n",
       " \"don't\": 102,\n",
       " 'year': 103,\n",
       " 'quora': 104,\n",
       " 'no': 105,\n",
       " 'go': 106,\n",
       " '2': 107,\n",
       " 'new': 108,\n",
       " 'possible': 109,\n",
       " 'job': 110,\n",
       " 'only': 111,\n",
       " 'her': 112,\n",
       " 'been': 113,\n",
       " 'years': 114,\n",
       " 'indian': 115,\n",
       " 'mean': 116,\n",
       " \"what's\": 117,\n",
       " 'need': 118,\n",
       " 'start': 119,\n",
       " \"i'm\": 120,\n",
       " 'used': 121,\n",
       " 'trump': 122,\n",
       " 'first': 123,\n",
       " 'women': 124,\n",
       " 'had': 125,\n",
       " '1': 126,\n",
       " 'difference': 127,\n",
       " 'money': 128,\n",
       " 'still': 129,\n",
       " 'different': 130,\n",
       " 'while': 131,\n",
       " 'school': 132,\n",
       " 'long': 133,\n",
       " 'really': 134,\n",
       " 'old': 135,\n",
       " 'over': 136,\n",
       " 'country': 137,\n",
       " 'our': 138,\n",
       " 'learn': 139,\n",
       " 'business': 140,\n",
       " 'same': 141,\n",
       " 'now': 142,\n",
       " 'love': 143,\n",
       " 'before': 144,\n",
       " 'college': 145,\n",
       " 'things': 146,\n",
       " 'even': 147,\n",
       " 'engineering': 148,\n",
       " 'help': 149,\n",
       " 'give': 150,\n",
       " 'online': 151,\n",
       " 'during': 152,\n",
       " 'day': 153,\n",
       " 'she': 154,\n",
       " 'say': 155,\n",
       " 'its': 156,\n",
       " '3': 157,\n",
       " 'bad': 158,\n",
       " 'using': 159,\n",
       " 'book': 160,\n",
       " 'because': 161,\n",
       " 'see': 162,\n",
       " 'university': 163,\n",
       " 'back': 164,\n",
       " 'men': 165,\n",
       " 'change': 166,\n",
       " 'then': 167,\n",
       " 'him': 168,\n",
       " 'company': 169,\n",
       " 'high': 170,\n",
       " 'sex': 171,\n",
       " 'made': 172,\n",
       " 'anyone': 173,\n",
       " 'stop': 174,\n",
       " '2017': 175,\n",
       " 'getting': 176,\n",
       " 'having': 177,\n",
       " 'right': 178,\n",
       " 'girl': 179,\n",
       " 'buy': 180,\n",
       " 'live': 181,\n",
       " 'two': 182,\n",
       " 'student': 183,\n",
       " 'thing': 184,\n",
       " 'study': 185,\n",
       " '5': 186,\n",
       " 'happen': 187,\n",
       " 'own': 188,\n",
       " 'science': 189,\n",
       " 'name': 190,\n",
       " 'going': 191,\n",
       " 'countries': 192,\n",
       " 'something': 193,\n",
       " 'white': 194,\n",
       " 'through': 195,\n",
       " 'free': 196,\n",
       " 'real': 197,\n",
       " 'look': 198,\n",
       " 'english': 199,\n",
       " 'black': 200,\n",
       " 'china': 201,\n",
       " 'come': 202,\n",
       " 'experience': 203,\n",
       " 'true': 204,\n",
       " 'such': 205,\n",
       " 'american': 206,\n",
       " '2018': 207,\n",
       " 'questions': 208,\n",
       " 'doing': 209,\n",
       " \"can't\": 210,\n",
       " 'water': 211,\n",
       " '10': 212,\n",
       " 'important': 213,\n",
       " 'number': 214,\n",
       " 'students': 215,\n",
       " 'class': 216,\n",
       " 'against': 217,\n",
       " 'system': 218,\n",
       " 'government': 219,\n",
       " 'language': 220,\n",
       " 'ways': 221,\n",
       " 'very': 222,\n",
       " 'tell': 223,\n",
       " 'off': 224,\n",
       " 'state': 225,\n",
       " 'computer': 226,\n",
       " 'books': 227,\n",
       " 'man': 228,\n",
       " 'war': 229,\n",
       " 'keep': 230,\n",
       " 'never': 231,\n",
       " 'human': 232,\n",
       " 'always': 233,\n",
       " '4': 234,\n",
       " 'social': 235,\n",
       " 'every': 236,\n",
       " 'girls': 237,\n",
       " 'friend': 238,\n",
       " 'career': 239,\n",
       " 'home': 240,\n",
       " 'too': 241,\n",
       " 'data': 242,\n",
       " 'non': 243,\n",
       " 'place': 244,\n",
       " 'chinese': 245,\n",
       " 'relationship': 246,\n",
       " 'under': 247,\n",
       " 'write': 248,\n",
       " \"doesn't\": 249,\n",
       " 'software': 250,\n",
       " 'future': 251,\n",
       " 'friends': 252,\n",
       " 'working': 253,\n",
       " 'x': 254,\n",
       " 'done': 255,\n",
       " 'learning': 256,\n",
       " 'exam': 257,\n",
       " 'account': 258,\n",
       " 'america': 259,\n",
       " 'family': 260,\n",
       " 'parents': 261,\n",
       " 'guy': 262,\n",
       " \"it's\": 263,\n",
       " 'website': 264,\n",
       " 'app': 265,\n",
       " 'food': 266,\n",
       " 'phone': 267,\n",
       " 's': 268,\n",
       " 'top': 269,\n",
       " 'got': 270,\n",
       " 'another': 271,\n",
       " 'car': 272,\n",
       " 'age': 273,\n",
       " 'read': 274,\n",
       " 'believe': 275,\n",
       " 'states': 276,\n",
       " 'around': 277,\n",
       " 'days': 278,\n",
       " 'usa': 279,\n",
       " 'happens': 280,\n",
       " 'google': 281,\n",
       " 'kind': 282,\n",
       " 'course': 283,\n",
       " 'wrong': 284,\n",
       " 'each': 285,\n",
       " 'big': 286,\n",
       " 'body': 287,\n",
       " 'companies': 288,\n",
       " 'down': 289,\n",
       " 'also': 290,\n",
       " 'show': 291,\n",
       " 'power': 292,\n",
       " 'hard': 293,\n",
       " 'major': 294,\n",
       " 'well': 295,\n",
       " 'b': 296,\n",
       " 'movie': 297,\n",
       " 'able': 298,\n",
       " 'last': 299,\n",
       " 'history': 300,\n",
       " 'americans': 301,\n",
       " 'question': 302,\n",
       " 'makes': 303,\n",
       " 'hate': 304,\n",
       " 'cost': 305,\n",
       " 'canada': 306,\n",
       " 'ask': 307,\n",
       " 'both': 308,\n",
       " 'living': 309,\n",
       " 'less': 310,\n",
       " 'president': 311,\n",
       " 'considered': 312,\n",
       " 'type': 313,\n",
       " 'muslims': 314,\n",
       " 'normal': 315,\n",
       " 'jee': 316,\n",
       " 'create': 317,\n",
       " 'test': 318,\n",
       " 'degree': 319,\n",
       " 'god': 320,\n",
       " 'woman': 321,\n",
       " 'pay': 322,\n",
       " 'facebook': 323,\n",
       " 'instead': 324,\n",
       " 'media': 325,\n",
       " 'since': 326,\n",
       " 'end': 327,\n",
       " 'play': 328,\n",
       " 'part': 329,\n",
       " 'child': 330,\n",
       " 'common': 331,\n",
       " 'u': 332,\n",
       " 'actually': 333,\n",
       " 'examples': 334,\n",
       " 'prepare': 335,\n",
       " 'process': 336,\n",
       " 'children': 337,\n",
       " 'rank': 338,\n",
       " 'market': 339,\n",
       " 'answer': 340,\n",
       " 'great': 341,\n",
       " 'law': 342,\n",
       " 'anything': 343,\n",
       " 'united': 344,\n",
       " 'tv': 345,\n",
       " 'marks': 346,\n",
       " 'eat': 347,\n",
       " 'given': 348,\n",
       " 'average': 349,\n",
       " 'win': 350,\n",
       " 'music': 351,\n",
       " 'myself': 352,\n",
       " 'known': 353,\n",
       " 'house': 354,\n",
       " 'next': 355,\n",
       " 'game': 356,\n",
       " 'jobs': 357,\n",
       " 'choose': 358,\n",
       " 'today': 359,\n",
       " 'call': 360,\n",
       " 'making': 361,\n",
       " 'writing': 362,\n",
       " 'medical': 363,\n",
       " 'earth': 364,\n",
       " 'score': 365,\n",
       " 'small': 366,\n",
       " 'current': 367,\n",
       " 'indians': 368,\n",
       " 'order': 369,\n",
       " 'cause': 370,\n",
       " 'service': 371,\n",
       " 'reason': 372,\n",
       " 'video': 373,\n",
       " 'join': 374,\n",
       " 'affect': 375,\n",
       " 'north': 376,\n",
       " 'e': 377,\n",
       " 'deal': 378,\n",
       " 'apply': 379,\n",
       " 'math': 380,\n",
       " '6': 381,\n",
       " 'main': 382,\n",
       " 'left': 383,\n",
       " 'causes': 384,\n",
       " 'self': 385,\n",
       " 'support': 386,\n",
       " 'worth': 387,\n",
       " 'form': 388,\n",
       " 'uk': 389,\n",
       " 'called': 390,\n",
       " 'c': 391,\n",
       " 'these': 392,\n",
       " 'tips': 393,\n",
       " 'point': 394,\n",
       " 'south': 395,\n",
       " 'bank': 396,\n",
       " 'based': 397,\n",
       " 'face': 398,\n",
       " 'word': 399,\n",
       " 'technology': 400,\n",
       " 'muslim': 401,\n",
       " 'engineer': 402,\n",
       " 'open': 403,\n",
       " 'public': 404,\n",
       " 'put': 405,\n",
       " 'energy': 406,\n",
       " 'etc': 407,\n",
       " 'card': 408,\n",
       " 'months': 409,\n",
       " 'delhi': 410,\n",
       " 'pakistan': 411,\n",
       " 'move': 412,\n",
       " 'light': 413,\n",
       " 'travel': 414,\n",
       " 'taking': 415,\n",
       " 'iit': 416,\n",
       " 'management': 417,\n",
       " 'full': 418,\n",
       " 'marketing': 419,\n",
       " 'level': 420,\n",
       " 'value': 421,\n",
       " 'others': 422,\n",
       " 'research': 423,\n",
       " 'found': 424,\n",
       " 'problem': 425,\n",
       " 'design': 426,\n",
       " 'improve': 427,\n",
       " 'lot': 428,\n",
       " 'those': 429,\n",
       " 'development': 430,\n",
       " 'control': 431,\n",
       " 'meaning': 432,\n",
       " 'hair': 433,\n",
       " 'idea': 434,\n",
       " 'date': 435,\n",
       " 'times': 436,\n",
       " 'single': 437,\n",
       " 'health': 438,\n",
       " 'term': 439,\n",
       " '12': 440,\n",
       " 'away': 441,\n",
       " 'program': 442,\n",
       " 'education': 443,\n",
       " 'care': 444,\n",
       " 'safe': 445,\n",
       " 'general': 446,\n",
       " 'air': 447,\n",
       " 'low': 448,\n",
       " 'series': 449,\n",
       " 'physics': 450,\n",
       " 'donald': 451,\n",
       " 'space': 452,\n",
       " 'international': 453,\n",
       " 'understand': 454,\n",
       " 'field': 455,\n",
       " 'increase': 456,\n",
       " 'required': 457,\n",
       " 'political': 458,\n",
       " 'weight': 459,\n",
       " 'mba': 460,\n",
       " 'city': 461,\n",
       " 'android': 462,\n",
       " 'enough': 463,\n",
       " 'month': 464,\n",
       " 'stay': 465,\n",
       " 'talk': 466,\n",
       " 'movies': 467,\n",
       " 'programming': 468,\n",
       " '7': 469,\n",
       " 'problems': 470,\n",
       " 'build': 471,\n",
       " 'popular': 472,\n",
       " 'youtube': 473,\n",
       " \"isn't\": 474,\n",
       " 'favorite': 475,\n",
       " 'salary': 476,\n",
       " 'happened': 477,\n",
       " 'humans': 478,\n",
       " 'available': 479,\n",
       " 'behind': 480,\n",
       " 'everyone': 481,\n",
       " 'group': 482,\n",
       " 'death': 483,\n",
       " 'legal': 484,\n",
       " 'post': 485,\n",
       " 'benefits': 486,\n",
       " 'mobile': 487,\n",
       " 'said': 488,\n",
       " 'again': 489,\n",
       " 'run': 490,\n",
       " 'story': 491,\n",
       " 'dog': 492,\n",
       " 'military': 493,\n",
       " 'mind': 494,\n",
       " 'boyfriend': 495,\n",
       " 'often': 496,\n",
       " 'female': 497,\n",
       " 'society': 498,\n",
       " 'short': 499,\n",
       " 'looking': 500,\n",
       " 'civil': 501,\n",
       " 'kill': 502,\n",
       " 'girlfriend': 503,\n",
       " 'culture': 504,\n",
       " 'wear': 505,\n",
       " \"didn't\": 506,\n",
       " 'successful': 507,\n",
       " 'visa': 508,\n",
       " 'ex': 509,\n",
       " 'leave': 510,\n",
       " '0': 511,\n",
       " 'side': 512,\n",
       " 'purpose': 513,\n",
       " 'russia': 514,\n",
       " 'per': 515,\n",
       " 'religion': 516,\n",
       " 'due': 517,\n",
       " 'germany': 518,\n",
       " 'party': 519,\n",
       " 'role': 520,\n",
       " 'web': 521,\n",
       " 'kids': 522,\n",
       " 'related': 523,\n",
       " 'mass': 524,\n",
       " 'europe': 525,\n",
       " 'male': 526,\n",
       " 'answers': 527,\n",
       " 'admission': 528,\n",
       " 'similar': 529,\n",
       " 'watch': 530,\n",
       " 'skills': 531,\n",
       " 'information': 532,\n",
       " 'speed': 533,\n",
       " 'die': 534,\n",
       " 'else': 535,\n",
       " '100': 536,\n",
       " 'seen': 537,\n",
       " 'consider': 538,\n",
       " 'product': 539,\n",
       " 'internet': 540,\n",
       " 'sell': 541,\n",
       " 'force': 542,\n",
       " 'starting': 543,\n",
       " 'british': 544,\n",
       " 'past': 545,\n",
       " 'pain': 546,\n",
       " 'colleges': 547,\n",
       " 'guys': 548,\n",
       " 'mechanical': 549,\n",
       " '8': 550,\n",
       " 'tech': 551,\n",
       " 'gay': 552,\n",
       " 'try': 553,\n",
       " 'few': 554,\n",
       " 'yourself': 555,\n",
       " 'types': 556,\n",
       " 'training': 557,\n",
       " 'everything': 558,\n",
       " 'studying': 559,\n",
       " 'advice': 560,\n",
       " 'opinion': 561,\n",
       " 'modern': 562,\n",
       " 'fight': 563,\n",
       " 'industry': 564,\n",
       " 'site': 565,\n",
       " 'share': 566,\n",
       " 'second': 567,\n",
       " 'earn': 568,\n",
       " 'though': 569,\n",
       " 'lose': 570,\n",
       " 'cat': 571,\n",
       " 'games': 572,\n",
       " '20': 573,\n",
       " 'allowed': 574,\n",
       " 'machine': 575,\n",
       " 'services': 576,\n",
       " 'exist': 577,\n",
       " 'blood': 578,\n",
       " 'effective': 579,\n",
       " 'let': 580,\n",
       " 'tax': 581,\n",
       " 'application': 582,\n",
       " 'rate': 583,\n",
       " 'interview': 584,\n",
       " 'paper': 585,\n",
       " 'night': 586,\n",
       " 'area': 587,\n",
       " 'project': 588,\n",
       " 'personal': 589,\n",
       " 'themselves': 590,\n",
       " 'police': 591,\n",
       " 'rather': 592,\n",
       " 'trying': 593,\n",
       " 'korea': 594,\n",
       " 'set': 595,\n",
       " 'case': 596,\n",
       " 'code': 597,\n",
       " 'already': 598,\n",
       " 'foreign': 599,\n",
       " 'bangalore': 600,\n",
       " 'famous': 601,\n",
       " 'terms': 602,\n",
       " \"i've\": 603,\n",
       " 'marriage': 604,\n",
       " 'australia': 605,\n",
       " 'm': 606,\n",
       " 'private': 607,\n",
       " 'period': 608,\n",
       " 'mumbai': 609,\n",
       " 'effect': 610,\n",
       " 'courses': 611,\n",
       " 'daily': 612,\n",
       " 'easy': 613,\n",
       " 'difficult': 614,\n",
       " 'worst': 615,\n",
       " 'skin': 616,\n",
       " 'explain': 617,\n",
       " 'brain': 618,\n",
       " 'amount': 619,\n",
       " 'words': 620,\n",
       " 'price': 621,\n",
       " 'act': 622,\n",
       " 'says': 623,\n",
       " 'middle': 624,\n",
       " 'biggest': 625,\n",
       " 'mother': 626,\n",
       " 'neet': 627,\n",
       " 'treat': 628,\n",
       " 'wants': 629,\n",
       " 'compared': 630,\n",
       " 'married': 631,\n",
       " 'plan': 632,\n",
       " 'useful': 633,\n",
       " 'team': 634,\n",
       " 'universe': 635,\n",
       " 'follow': 636,\n",
       " 'hours': 637,\n",
       " 'function': 638,\n",
       " 'liberals': 639,\n",
       " 'products': 640,\n",
       " 'news': 641,\n",
       " 'song': 642,\n",
       " 'towards': 643,\n",
       " 'asked': 644,\n",
       " 'places': 645,\n",
       " 'japanese': 646,\n",
       " 'quality': 647,\n",
       " 'seem': 648,\n",
       " 'amazon': 649,\n",
       " 'visit': 650,\n",
       " 'once': 651,\n",
       " '15': 652,\n",
       " 'prevent': 653,\n",
       " 'correct': 654,\n",
       " 'ideas': 655,\n",
       " 'young': 656,\n",
       " 'sleep': 657,\n",
       " 'wife': 658,\n",
       " 'iâ\\x80\\x99m': 659,\n",
       " 'started': 660,\n",
       " 'example': 661,\n",
       " 'national': 662,\n",
       " 'knowledge': 663,\n",
       " 'describe': 664,\n",
       " 'turn': 665,\n",
       " 'yet': 666,\n",
       " 'happy': 667,\n",
       " 'vs': 668,\n",
       " 'offer': 669,\n",
       " 'lost': 670,\n",
       " 'institute': 671,\n",
       " 'star': 672,\n",
       " 'islam': 673,\n",
       " 'rid': 674,\n",
       " 'taken': 675,\n",
       " 'animals': 676,\n",
       " 'coaching': 677,\n",
       " 'cse': 678,\n",
       " 'iphone': 679,\n",
       " 'theory': 680,\n",
       " 'three': 681,\n",
       " 'may': 682,\n",
       " '9': 683,\n",
       " 'effects': 684,\n",
       " 'list': 685,\n",
       " 'oil': 686,\n",
       " 'model': 687,\n",
       " 'gun': 688,\n",
       " 'view': 689,\n",
       " 'avoid': 690,\n",
       " 'invest': 691,\n",
       " 'download': 692,\n",
       " '12th': 693,\n",
       " 'differences': 694,\n",
       " 'red': 695,\n",
       " 'stock': 696,\n",
       " 'line': 697,\n",
       " 'far': 698,\n",
       " 'negative': 699,\n",
       " \"you've\": 700,\n",
       " 'week': 701,\n",
       " 'sound': 702,\n",
       " 'okay': 703,\n",
       " 'expect': 704,\n",
       " 'instagram': 705,\n",
       " 'japan': 706,\n",
       " 'fast': 707,\n",
       " 'little': 708,\n",
       " 'character': 709,\n",
       " 'necessary': 710,\n",
       " 'eating': 711,\n",
       " 'israel': 712,\n",
       " 'matter': 713,\n",
       " 'com': 714,\n",
       " 'natural': 715,\n",
       " 'security': 716,\n",
       " '11': 717,\n",
       " 'develop': 718,\n",
       " 'chance': 719,\n",
       " 'reasons': 720,\n",
       " 'provide': 721,\n",
       " 'jews': 722,\n",
       " 'professional': 723,\n",
       " 'chemical': 724,\n",
       " 'thinking': 725,\n",
       " 'remove': 726,\n",
       " 'board': 727,\n",
       " 'must': 728,\n",
       " 'sexual': 729,\n",
       " 'grow': 730,\n",
       " 'depression': 731,\n",
       " 'likely': 732,\n",
       " 'size': 733,\n",
       " 'laptop': 734,\n",
       " 'feeling': 735,\n",
       " 'facts': 736,\n",
       " 'modi': 737,\n",
       " 'anti': 738,\n",
       " 'exams': 739,\n",
       " 'present': 740,\n",
       " 'within': 741,\n",
       " 'chances': 742,\n",
       " 'add': 743,\n",
       " 'accept': 744,\n",
       " 'schools': 745,\n",
       " 'apps': 746,\n",
       " 'n': 747,\n",
       " 'dream': 748,\n",
       " 'cut': 749,\n",
       " 'large': 750,\n",
       " 'army': 751,\n",
       " 'together': 752,\n",
       " 'prefer': 753,\n",
       " 'office': 754,\n",
       " 'told': 755,\n",
       " 'preparation': 756,\n",
       " 'reading': 757,\n",
       " 'interested': 758,\n",
       " 'moving': 759,\n",
       " 'speak': 760,\n",
       " 'send': 761,\n",
       " 'fall': 762,\n",
       " 'digital': 763,\n",
       " 'european': 764,\n",
       " 'mental': 765,\n",
       " 'option': 766,\n",
       " 'fake': 767,\n",
       " 'paid': 768,\n",
       " 'break': 769,\n",
       " 'becoming': 770,\n",
       " 'financial': 771,\n",
       " 'nothing': 772,\n",
       " 'poor': 773,\n",
       " 'phd': 774,\n",
       " 'donâ\\x80\\x99t': 775,\n",
       " 'french': 776,\n",
       " 'head': 777,\n",
       " 'boy': 778,\n",
       " 'income': 779,\n",
       " 'western': 780,\n",
       " 'graduate': 781,\n",
       " 'here': 782,\n",
       " 'father': 783,\n",
       " 'interesting': 784,\n",
       " 'percentage': 785,\n",
       " 'close': 786,\n",
       " 'least': 787,\n",
       " 'husband': 788,\n",
       " 'drive': 789,\n",
       " 'outside': 790,\n",
       " 'basic': 791,\n",
       " 'illegal': 792,\n",
       " '30': 793,\n",
       " 'investment': 794,\n",
       " 'contact': 795,\n",
       " 'nuclear': 796,\n",
       " 'thoughts': 797,\n",
       " 'subject': 798,\n",
       " '50': 799,\n",
       " 'options': 800,\n",
       " 'store': 801,\n",
       " 'dating': 802,\n",
       " 'allow': 803,\n",
       " 'comes': 804,\n",
       " 'gain': 805,\n",
       " 'impact': 806,\n",
       " 'special': 807,\n",
       " 'population': 808,\n",
       " 'languages': 809,\n",
       " 'java': 810,\n",
       " \"aren't\": 811,\n",
       " 'upsc': 812,\n",
       " 'higher': 813,\n",
       " 'physical': 814,\n",
       " 'studies': 815,\n",
       " 'gate': 816,\n",
       " 'style': 817,\n",
       " 'might': 818,\n",
       " 'uses': 819,\n",
       " 'universities': 820,\n",
       " \"you're\": 821,\n",
       " 'check': 822,\n",
       " 'land': 823,\n",
       " 'interest': 824,\n",
       " 'born': 825,\n",
       " 'advantages': 826,\n",
       " 'characteristics': 827,\n",
       " '18': 828,\n",
       " 'rich': 829,\n",
       " 'rights': 830,\n",
       " 'chemistry': 831,\n",
       " 'teacher': 832,\n",
       " 'hand': 833,\n",
       " 'websites': 834,\n",
       " 'racist': 835,\n",
       " 'solution': 836,\n",
       " 'issues': 837,\n",
       " 'personality': 838,\n",
       " 'baby': 839,\n",
       " 'mains': 840,\n",
       " '000': 841,\n",
       " 'german': 842,\n",
       " 'fact': 843,\n",
       " 'intelligence': 844,\n",
       " 'gets': 845,\n",
       " 'marry': 846,\n",
       " 'strong': 847,\n",
       " 'meet': 848,\n",
       " 'changed': 849,\n",
       " 'pressure': 850,\n",
       " 'email': 851,\n",
       " 'hindi': 852,\n",
       " 'created': 853,\n",
       " 'charge': 854,\n",
       " 'sites': 855,\n",
       " 'heart': 856,\n",
       " 'room': 857,\n",
       " 'recommend': 858,\n",
       " 'positive': 859,\n",
       " 'russian': 860,\n",
       " 'please': 861,\n",
       " 'fat': 862,\n",
       " 'credit': 863,\n",
       " 'spend': 864,\n",
       " 'laws': 865,\n",
       " 'branch': 866,\n",
       " 'pregnant': 867,\n",
       " 'developer': 868,\n",
       " 'near': 869,\n",
       " 'pursue': 870,\n",
       " 'currently': 871,\n",
       " 'source': 872,\n",
       " 'dark': 873,\n",
       " 'solve': 874,\n",
       " 'west': 875,\n",
       " 'ms': 876,\n",
       " 'economy': 877,\n",
       " 'building': 878,\n",
       " 'inside': 879,\n",
       " 'practice': 880,\n",
       " 'smart': 881,\n",
       " 'bitcoin': 882,\n",
       " 'hyderabad': 883,\n",
       " 'obama': 884,\n",
       " 'bring': 885,\n",
       " 'pass': 886,\n",
       " 'startup': 887,\n",
       " 'talking': 888,\n",
       " 'whole': 889,\n",
       " 'africa': 890,\n",
       " 'ok': 891,\n",
       " 'views': 892,\n",
       " 'network': 893,\n",
       " 'videos': 894,\n",
       " 'structure': 895,\n",
       " 'windows': 896,\n",
       " 'scope': 897,\n",
       " 'doctor': 898,\n",
       " 'completely': 899,\n",
       " 'alone': 900,\n",
       " 'maths': 901,\n",
       " 'film': 902,\n",
       " 'christians': 903,\n",
       " 'pune': 904,\n",
       " 'officer': 905,\n",
       " 'partner': 906,\n",
       " 'apple': 907,\n",
       " 'early': 908,\n",
       " 'cold': 909,\n",
       " 'art': 910,\n",
       " 'ca': 911,\n",
       " 'dogs': 912,\n",
       " 'exactly': 913,\n",
       " 'crush': 914,\n",
       " 'son': 915,\n",
       " 'certain': 916,\n",
       " 'global': 917,\n",
       " 'numbers': 918,\n",
       " 'd': 919,\n",
       " 'stupid': 920,\n",
       " 'cell': 921,\n",
       " 'among': 922,\n",
       " 'cbse': 923,\n",
       " 'gas': 924,\n",
       " 'factors': 925,\n",
       " 'according': 926,\n",
       " 'ones': 927,\n",
       " 'content': 928,\n",
       " 'works': 929,\n",
       " 'written': 930,\n",
       " 'save': 931,\n",
       " 'christian': 932,\n",
       " 'fear': 933,\n",
       " 'iq': 934,\n",
       " 'distance': 935,\n",
       " 'religious': 936,\n",
       " 'mom': 937,\n",
       " 'especially': 938,\n",
       " 'needed': 939,\n",
       " 'topics': 940,\n",
       " 'reduce': 941,\n",
       " 'yes': 942,\n",
       " 'songs': 943,\n",
       " 'asian': 944,\n",
       " 'electrical': 945,\n",
       " 'text': 946,\n",
       " 'treatment': 947,\n",
       " 'cs': 948,\n",
       " 'healthy': 949,\n",
       " 'file': 950,\n",
       " 'buying': 951,\n",
       " 'east': 952,\n",
       " 'minimum': 953,\n",
       " 'teach': 954,\n",
       " 'complete': 955,\n",
       " 'giving': 956,\n",
       " 'community': 957,\n",
       " 'policy': 958,\n",
       " 'attack': 959,\n",
       " 'hurt': 960,\n",
       " 'novel': 961,\n",
       " 'letter': 962,\n",
       " 'race': 963,\n",
       " 'method': 964,\n",
       " 'eyes': 965,\n",
       " 'fix': 966,\n",
       " 'whatâ\\x80\\x99s': 967,\n",
       " 'simple': 968,\n",
       " 'playing': 969,\n",
       " 'dead': 970,\n",
       " 'color': 971,\n",
       " 'coming': 972,\n",
       " 'mathematics': 973,\n",
       " 'thought': 974,\n",
       " 'sense': 975,\n",
       " 'opportunities': 976,\n",
       " 'insurance': 977,\n",
       " 'multiple': 978,\n",
       " 'train': 979,\n",
       " 'african': 980,\n",
       " 'search': 981,\n",
       " 'almost': 982,\n",
       " 'eye': 983,\n",
       " 'advanced': 984,\n",
       " 'analysis': 985,\n",
       " 'result': 986,\n",
       " 'easily': 987,\n",
       " 'ago': 988,\n",
       " 'saying': 989,\n",
       " 'democrats': 990,\n",
       " 'procedure': 991,\n",
       " 'anxiety': 992,\n",
       " 'running': 993,\n",
       " 'hindu': 994,\n",
       " 'lower': 995,\n",
       " 'asking': 996,\n",
       " 'cars': 997,\n",
       " 'react': 998,\n",
       " 'front': 999,\n",
       " 'importance': 1000,\n",
       " ...}"
      ]
     },
     "execution_count": 31,
     "metadata": {},
     "output_type": "execute_result"
    }
   ],
   "source": [
    "tk.word_index"
   ]
  },
  {
   "cell_type": "code",
   "execution_count": 32,
   "id": "cde08d18",
   "metadata": {},
   "outputs": [
    {
     "data": {
      "text/plain": [
       "196136"
      ]
     },
     "execution_count": 32,
     "metadata": {},
     "output_type": "execute_result"
    }
   ],
   "source": [
    "vocab_size"
   ]
  },
  {
   "cell_type": "code",
   "execution_count": 33,
   "id": "8f879701",
   "metadata": {},
   "outputs": [
    {
     "data": {
      "text/plain": [
       "(1044897, 44)"
      ]
     },
     "execution_count": 33,
     "metadata": {},
     "output_type": "execute_result"
    }
   ],
   "source": [
    "seq_train_matrix.shape"
   ]
  },
  {
   "cell_type": "code",
   "execution_count": 34,
   "id": "141f4919",
   "metadata": {},
   "outputs": [
    {
     "data": {
      "text/plain": [
       "(1044897,)"
      ]
     },
     "execution_count": 34,
     "metadata": {},
     "output_type": "execute_result"
    }
   ],
   "source": [
    "x_train.shape"
   ]
  },
  {
   "cell_type": "code",
   "execution_count": 35,
   "id": "4d87c41c",
   "metadata": {},
   "outputs": [
    {
     "data": {
      "text/plain": [
       "(1044897, 261225)"
      ]
     },
     "execution_count": 35,
     "metadata": {},
     "output_type": "execute_result"
    }
   ],
   "source": [
    "len(seq_train),len(seq_test)"
   ]
  },
  {
   "cell_type": "code",
   "execution_count": 36,
   "id": "92b7f143",
   "metadata": {},
   "outputs": [
    {
     "data": {
      "text/plain": [
       "((1044897, 44), (261225, 44))"
      ]
     },
     "execution_count": 36,
     "metadata": {},
     "output_type": "execute_result"
    }
   ],
   "source": [
    "seq_train_matrix.shape, seq_test_matrix.shape"
   ]
  },
  {
   "cell_type": "code",
   "execution_count": 37,
   "id": "6a5707f6",
   "metadata": {},
   "outputs": [],
   "source": [
    "embedding_matrix=np.zeros((vocab_size+1,300))"
   ]
  },
  {
   "cell_type": "code",
   "execution_count": 38,
   "id": "1bfe419c",
   "metadata": {},
   "outputs": [],
   "source": [
    "for word,i in tk.word_index.items():\n",
    "    embed_vector=embeding_index.get(word)\n",
    "    if embed_vector is not None:\n",
    "        embedding_matrix[i]=embed_vector"
   ]
  },
  {
   "cell_type": "code",
   "execution_count": 39,
   "id": "f4e3fa8e",
   "metadata": {},
   "outputs": [
    {
     "data": {
      "text/plain": [
       "196137"
      ]
     },
     "execution_count": 39,
     "metadata": {},
     "output_type": "execute_result"
    }
   ],
   "source": [
    "len(embedding_matrix)"
   ]
  },
  {
   "cell_type": "code",
   "execution_count": 40,
   "id": "efc2a173",
   "metadata": {},
   "outputs": [
    {
     "data": {
      "text/plain": [
       "(196137, 300)"
      ]
     },
     "execution_count": 40,
     "metadata": {},
     "output_type": "execute_result"
    }
   ],
   "source": [
    "embedding_matrix.shape"
   ]
  },
  {
   "cell_type": "code",
   "execution_count": 41,
   "id": "69acaea7",
   "metadata": {},
   "outputs": [
    {
     "data": {
      "text/plain": [
       "array([[ 0.        ,  0.        ,  0.        , ...,  0.        ,\n",
       "         0.        ,  0.        ],\n",
       "       [-0.20838   , -0.14932001, -0.017528  , ..., -0.54066002,\n",
       "         0.21199   , -0.0094357 ],\n",
       "       [ 0.13877   , -0.0021201 , -0.091039  , ...,  0.024614  ,\n",
       "         0.46514001,  0.11363   ],\n",
       "       ...,\n",
       "       [ 0.077113  , -0.56219   ,  0.27366999, ...,  0.14622   ,\n",
       "        -0.21532001,  0.089349  ],\n",
       "       [ 0.        ,  0.        ,  0.        , ...,  0.        ,\n",
       "         0.        ,  0.        ],\n",
       "       [ 0.        ,  0.        ,  0.        , ...,  0.        ,\n",
       "         0.        ,  0.        ]])"
      ]
     },
     "execution_count": 41,
     "metadata": {},
     "output_type": "execute_result"
    }
   ],
   "source": [
    "embedding_matrix"
   ]
  },
  {
   "cell_type": "code",
   "execution_count": 42,
   "id": "2cdd1589",
   "metadata": {},
   "outputs": [],
   "source": [
    "inputs = Input(name='text_input',shape=[max_len])"
   ]
  },
  {
   "cell_type": "code",
   "execution_count": 43,
   "id": "22266865",
   "metadata": {},
   "outputs": [],
   "source": [
    "embed=Embedding(vocab_size+1,300,input_length=max_len,mask_zero=True,\n",
    "                weights=[embedding_matrix],trainable=False)(inputs)"
   ]
  },
  {
   "cell_type": "code",
   "execution_count": 44,
   "id": "136b779c",
   "metadata": {},
   "outputs": [],
   "source": [
    "lstm_layer1 = LSTM(512)(embed)"
   ]
  },
  {
   "cell_type": "code",
   "execution_count": 45,
   "id": "43dd92cb",
   "metadata": {},
   "outputs": [],
   "source": [
    "drop1 = Dropout(0.2)(lstm_layer1)"
   ]
  },
  {
   "cell_type": "code",
   "execution_count": 46,
   "id": "5207a7a1",
   "metadata": {},
   "outputs": [],
   "source": [
    "lstm_layer2 = Dense(256,activation='relu')(drop1)\n",
    "drop2 = Dropout(0.2)(lstm_layer2)"
   ]
  },
  {
   "cell_type": "code",
   "execution_count": 47,
   "id": "39dcdbc2",
   "metadata": {},
   "outputs": [],
   "source": [
    "lstm_layer3 = Dense(128,activation='relu')(drop2)\n",
    "drop3 = Dropout(0.2)(lstm_layer3)"
   ]
  },
  {
   "cell_type": "code",
   "execution_count": 48,
   "id": "dea19373",
   "metadata": {},
   "outputs": [],
   "source": [
    "dense1 = Dense(25,activation='relu')(lstm_layer3)\n",
    "drop4 = Dropout(0.2)(dense1)"
   ]
  },
  {
   "cell_type": "code",
   "execution_count": 49,
   "id": "7b73f19f",
   "metadata": {},
   "outputs": [],
   "source": [
    "final_layer = Dense(1,activation='sigmoid')(drop4)"
   ]
  },
  {
   "cell_type": "code",
   "execution_count": 50,
   "id": "22090aa5",
   "metadata": {},
   "outputs": [],
   "source": [
    "model = Model(inputs=inputs,outputs=final_layer)"
   ]
  },
  {
   "cell_type": "code",
   "execution_count": 51,
   "id": "5b832596",
   "metadata": {},
   "outputs": [
    {
     "name": "stdout",
     "output_type": "stream",
     "text": [
      "Model: \"model\"\n",
      "_________________________________________________________________\n",
      " Layer (type)                Output Shape              Param #   \n",
      "=================================================================\n",
      " text_input (InputLayer)     [(None, 44)]              0         \n",
      "                                                                 \n",
      " embedding (Embedding)       (None, 44, 300)           58841100  \n",
      "                                                                 \n",
      " lstm (LSTM)                 (None, 512)               1665024   \n",
      "                                                                 \n",
      " dropout (Dropout)           (None, 512)               0         \n",
      "                                                                 \n",
      " dense (Dense)               (None, 256)               131328    \n",
      "                                                                 \n",
      " dropout_1 (Dropout)         (None, 256)               0         \n",
      "                                                                 \n",
      " dense_1 (Dense)             (None, 128)               32896     \n",
      "                                                                 \n",
      " dense_2 (Dense)             (None, 25)                3225      \n",
      "                                                                 \n",
      " dropout_3 (Dropout)         (None, 25)                0         \n",
      "                                                                 \n",
      " dense_3 (Dense)             (None, 1)                 26        \n",
      "                                                                 \n",
      "=================================================================\n",
      "Total params: 60,673,599\n",
      "Trainable params: 1,832,499\n",
      "Non-trainable params: 58,841,100\n",
      "_________________________________________________________________\n"
     ]
    }
   ],
   "source": [
    "model.summary()"
   ]
  },
  {
   "cell_type": "code",
   "execution_count": 52,
   "id": "dbe3e74d",
   "metadata": {},
   "outputs": [],
   "source": [
    "filepath='/weights-{epoch:02d}-{val_loss:.4f}.h5'\n",
    "checkpoint = ModelCheckpoint(filepath, monitor='val_loss', verbose=1, \n",
    "                             save_best_only=True)"
   ]
  },
  {
   "cell_type": "code",
   "execution_count": 53,
   "id": "b5a25a3d",
   "metadata": {},
   "outputs": [],
   "source": [
    "earlystop = EarlyStopping(monitor='val_loss', patience=3,\n",
    "                          verbose=1)"
   ]
  },
  {
   "cell_type": "code",
   "execution_count": 54,
   "id": "537363c8",
   "metadata": {},
   "outputs": [
    {
     "data": {
      "text/plain": [
       "<keras.callbacks.EarlyStopping at 0xed1c604700>"
      ]
     },
     "execution_count": 54,
     "metadata": {},
     "output_type": "execute_result"
    }
   ],
   "source": [
    "earlystop"
   ]
  },
  {
   "cell_type": "code",
   "execution_count": 55,
   "id": "16a76c28",
   "metadata": {},
   "outputs": [],
   "source": [
    "model.compile(optimizer='adam',loss='binary_crossentropy',metrics=['accuracy'])"
   ]
  },
  {
   "cell_type": "code",
   "execution_count": 56,
   "id": "bb96c36f",
   "metadata": {},
   "outputs": [
    {
     "data": {
      "text/plain": [
       "<keras.engine.functional.Functional at 0xed1c5f84c0>"
      ]
     },
     "execution_count": 56,
     "metadata": {},
     "output_type": "execute_result"
    }
   ],
   "source": [
    "model"
   ]
  },
  {
   "cell_type": "code",
   "execution_count": 57,
   "id": "334c7ff6",
   "metadata": {},
   "outputs": [
    {
     "name": "stdout",
     "output_type": "stream",
     "text": [
      "Epoch 1/3\n",
      "1045/1045 [==============================] - ETA: 0s - loss: 0.2976 - accuracy: 0.8724 \n",
      "Epoch 1: val_loss improved from inf to 0.33061, saving model to /weights-01-0.3306.h5\n",
      "1045/1045 [==============================] - 17846s 17s/step - loss: 0.2976 - accuracy: 0.8724 - val_loss: 0.3306 - val_accuracy: 0.8661\n",
      "Epoch 2/3\n",
      "1045/1045 [==============================] - ETA: 0s - loss: 0.2519 - accuracy: 0.8937 \n",
      "Epoch 2: val_loss improved from 0.33061 to 0.24832, saving model to /weights-02-0.2483.h5\n",
      "1045/1045 [==============================] - 17787s 17s/step - loss: 0.2519 - accuracy: 0.8937 - val_loss: 0.2483 - val_accuracy: 0.9000\n",
      "Epoch 3/3\n",
      "1045/1045 [==============================] - ETA: 0s - loss: 0.2289 - accuracy: 0.9014 \n",
      "Epoch 3: val_loss improved from 0.24832 to 0.23763, saving model to /weights-03-0.2376.h5\n",
      "1045/1045 [==============================] - 17802s 17s/step - loss: 0.2289 - accuracy: 0.9014 - val_loss: 0.2376 - val_accuracy: 0.9066\n"
     ]
    },
    {
     "data": {
      "text/plain": [
       "<keras.callbacks.History at 0xece3283160>"
      ]
     },
     "execution_count": 57,
     "metadata": {},
     "output_type": "execute_result"
    }
   ],
   "source": [
    "model.fit(seq_train_matrix,y_train,\n",
    "              epochs=3,\n",
    "              class_weight={0: 0.5331085383324966, 1: 8.050922287457816},\n",
    "              batch_size=1000,\n",
    "              validation_data=(seq_test_matrix,y_test),\n",
    "              callbacks = [earlystop, checkpoint])"
   ]
  },
  {
   "cell_type": "code",
   "execution_count": 61,
   "id": "e8443502",
   "metadata": {},
   "outputs": [],
   "source": [
    "best_model = load_model('/weights-03-0.2376.h5')"
   ]
  },
  {
   "cell_type": "code",
   "execution_count": 62,
   "id": "4d6423be",
   "metadata": {},
   "outputs": [
    {
     "name": "stdout",
     "output_type": "stream",
     "text": [
      "Model: \"model\"\n",
      "_________________________________________________________________\n",
      " Layer (type)                Output Shape              Param #   \n",
      "=================================================================\n",
      " text_input (InputLayer)     [(None, 44)]              0         \n",
      "                                                                 \n",
      " embedding (Embedding)       (None, 44, 300)           58841100  \n",
      "                                                                 \n",
      " lstm (LSTM)                 (None, 512)               1665024   \n",
      "                                                                 \n",
      " dropout (Dropout)           (None, 512)               0         \n",
      "                                                                 \n",
      " dense (Dense)               (None, 256)               131328    \n",
      "                                                                 \n",
      " dropout_1 (Dropout)         (None, 256)               0         \n",
      "                                                                 \n",
      " dense_1 (Dense)             (None, 128)               32896     \n",
      "                                                                 \n",
      " dense_2 (Dense)             (None, 25)                3225      \n",
      "                                                                 \n",
      " dropout_3 (Dropout)         (None, 25)                0         \n",
      "                                                                 \n",
      " dense_3 (Dense)             (None, 1)                 26        \n",
      "                                                                 \n",
      "=================================================================\n",
      "Total params: 60,673,599\n",
      "Trainable params: 1,832,499\n",
      "Non-trainable params: 58,841,100\n",
      "_________________________________________________________________\n"
     ]
    }
   ],
   "source": [
    "best_model.summary()"
   ]
  },
  {
   "cell_type": "code",
   "execution_count": 63,
   "id": "3dbd5746",
   "metadata": {},
   "outputs": [
    {
     "name": "stdout",
     "output_type": "stream",
     "text": [
      "8164/8164 [==============================] - 2780s 339ms/step\n"
     ]
    }
   ],
   "source": [
    "p = best_model.predict(seq_test_matrix)"
   ]
  },
  {
   "cell_type": "code",
   "execution_count": 64,
   "id": "7b46582d",
   "metadata": {},
   "outputs": [
    {
     "data": {
      "text/plain": [
       "0.9660895335052551"
      ]
     },
     "execution_count": 64,
     "metadata": {},
     "output_type": "execute_result"
    }
   ],
   "source": [
    "roc_auc_score(y_test,p)"
   ]
  },
  {
   "cell_type": "code",
   "execution_count": 65,
   "id": "170f0669",
   "metadata": {},
   "outputs": [],
   "source": [
    "best_model.save('./spam_filter_model_quora_questions.h5')"
   ]
  }
 ],
 "metadata": {
  "kernelspec": {
   "display_name": "Python 3",
   "language": "python",
   "name": "python3"
  },
  "language_info": {
   "codemirror_mode": {
    "name": "ipython",
    "version": 3
   },
   "file_extension": ".py",
   "mimetype": "text/x-python",
   "name": "python",
   "nbconvert_exporter": "python",
   "pygments_lexer": "ipython3",
   "version": "3.8.8"
  }
 },
 "nbformat": 4,
 "nbformat_minor": 5
}
